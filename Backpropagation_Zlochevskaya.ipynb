{
 "cells": [
  {
   "cell_type": "markdown",
   "metadata": {},
   "source": [
    "## BackPropagation"
   ]
  },
  {
   "cell_type": "code",
   "execution_count": 1,
   "metadata": {
    "collapsed": false
   },
   "outputs": [
    {
     "name": "stdout",
     "output_type": "stream",
     "text": [
      "Populating the interactive namespace from numpy and matplotlib\n"
     ]
    }
   ],
   "source": [
    "import numpy as np\n",
    "import matplotlib.pyplot as plt\n",
    "import os\n",
    "import struct\n",
    "import sklearn.preprocessing\n",
    "import random as r\n",
    "import scipy.misc\n",
    "%pylab inline"
   ]
  },
  {
   "cell_type": "code",
   "execution_count": 2,
   "metadata": {
    "collapsed": false
   },
   "outputs": [],
   "source": [
    "def soft_softmax(x):\n",
    "    x = np.array([x[i] - np.max(x[i]) for i in xrange(x.shape[0])])\n",
    "    x = np.array([np.exp(x[i]) / np.sum(np.exp(x[i])) for i in xrange(x.shape[0])])\n",
    "    return x\n",
    "\n",
    "def activate(activate, x):\n",
    "    if activate == 'sigmoid':\n",
    "        return (1 / (1 + np.exp(-x)))\n",
    "    elif activate == 'tanh':\n",
    "        return np.tanh(x)\n",
    "    elif activate == 'softmax':\n",
    "        return soft_softmax(x)\n",
    "    elif activate == 'ReLU':\n",
    "        for i in xrange(x.shape[0]):\n",
    "            for j in xrange(x.shape[1]):\n",
    "                if (x[i][j] < 0):\n",
    "                    x[i][j] = 0\n",
    "        return x \n",
    "    \n",
    "def deriv_activ(activate, x):\n",
    "    if activate == 'sigmoid':\n",
    "        return x * (1 - x)\n",
    "    elif activate == 'tanh':\n",
    "        return (1.0 - x**2)  \n",
    "    elif activate == 'softmax':\n",
    "        return x * (1 - x)\n",
    "    elif activate == 'ReLU':\n",
    "        for i in xrange(x.shape[0]):\n",
    "            for j in xrange(x.shape[1]):\n",
    "                if (x[i][j] < 0):\n",
    "                    x[i][j] = 0\n",
    "                else:\n",
    "                    x[i][j] = 1\n",
    "        return x "
   ]
  },
  {
   "cell_type": "code",
   "execution_count": 3,
   "metadata": {
    "collapsed": false
   },
   "outputs": [],
   "source": [
    "class Layer:\n",
    "    def __init__(self, num_nodes, prev_num_nodes = -1, bias = True, activate = \"sigmoid\"):\n",
    "        self.num_nodes = num_nodes\n",
    "        self.prev_num_nodes = prev_num_nodes\n",
    "        self.need_bias = bias;\n",
    "        print self.need_bias\n",
    "        if (self.need_bias):\n",
    "            self.bias = 2 * np.random.random((1, num_nodes)) - 1\n",
    "        self.weights_matrix = None\n",
    "        self.activate = activate\n",
    "\n",
    "    def forward_pass(self, X):\n",
    "        if (self.weights_matrix is None) and (self.prev_num_nodes != 1):\n",
    "            self.weights_matrix = 2*np.random.random((self.prev_num_nodes, self.num_nodes)) - 1\n",
    "            #self.weights_matrix = np.array([[0.1], [0.1]])\n",
    "        \n",
    "        #print np.dot(X, self.weights_matrix)\n",
    "        #print \"WEIGHTS: \" + str(self.weights_matrix)\n",
    "        if (self.need_bias):\n",
    "            self.Y = activate(self.activate, np.dot(X, self.weights_matrix) + self.bias)\n",
    "        else:\n",
    "            self.Y = activate(self.activate, np.dot(X, self.weights_matrix))\n",
    "        \n",
    "        return self.Y\n",
    "    \n",
    "    def backward_pass(self, WeightedGradientNextLayer, learning_ratio, Y_prev): \n",
    "        #calculate gradient and update weights\n",
    "        Delta = WeightedGradientNextLayer * deriv_activ(self.activate, self.Y)\n",
    "        Gradient = Y_prev.T.dot(Delta)\n",
    "        #print \"Gradient 0: \" + str(Gradient)\n",
    "        self.weights_matrix -= learning_ratio * Gradient\n",
    "        \n",
    "        if (self.need_bias):\n",
    "            #print \"bias\", self.bias\n",
    "            #print \"delta\", Delta.sum()\n",
    "            #print \"Delta shape\", Delta.shape\n",
    "            self.bias -= learning_ratio * Delta.mean(0)\n",
    "        \n",
    "        return (Delta.dot(self.weights_matrix.T))\n",
    "    \n",
    "class OutputLayer(Layer):\n",
    "    def backward_begin (self, loss_function, OUT, learning_ratio, Y_prev):\n",
    "        \n",
    "        if loss_function == \"MSE\":\n",
    "            Delta = -1 *(OUT - self.Y) * deriv_activ(self.activate, self.Y)\n",
    "            Gradient = Y_prev.T.dot(Delta)\n",
    "            Error = (((OUT - self.Y)**2).mean(axis = 1)).mean()\n",
    "            #print \"Gradient\" + str(Gradient)\n",
    "            self.weights_matrix -= learning_ratio * Gradient\n",
    "            if (self.need_bias):\n",
    "                #print \"bias\", self.bias\n",
    "                #print \"delta\", Delta.sum()\n",
    "                self.bias -= learning_ratio * Delta.mean(0)\n",
    "            \n",
    "            \n",
    "        elif loss_function == \"NLL\":\n",
    "            \n",
    "            #x = np.copy(self.Y)\n",
    "            #for sample in xrange(x.shape[0]):\n",
    "            #    x[sample] = x[sample] - scipy.misc.logsumexp(x[sample])\n",
    "            \n",
    "            Error = -1 * (OUT * np.log(self.Y)).sum()\n",
    "            \n",
    "            #print self.Y\n",
    "            Delta = (self.Y - OUT)\n",
    "            Gradient = Y_prev.T.dot(Delta)\n",
    "            #print \"Gradient: \" + str(Gradient[0])\n",
    "            self.weights_matrix -= learning_ratio * Gradient\n",
    "            if (self.need_bias):\n",
    "                #print self.bias\n",
    "                #print Delta.sum()\n",
    "                self.bias -= learning_ratio * Delta.mean(0)\n",
    "        \n",
    "        return Delta.dot(self.weights_matrix.T), Error\n",
    "    \n",
    "    \n",
    "class InputLayer(Layer):\n",
    "    def forward_begin (self, X):\n",
    "        self.Y = X\n",
    "        \n",
    "        return self.Y\n",
    "        \n",
    "        "
   ]
  },
  {
   "cell_type": "code",
   "execution_count": 4,
   "metadata": {
    "collapsed": false
   },
   "outputs": [
    {
     "name": "stdout",
     "output_type": "stream",
     "text": [
      "[[ 0.5 -0.3 -0.8]\n",
      " [-3.  -3.  -4. ]]\n"
     ]
    }
   ],
   "source": [
    "a = np.array([[1, 0, 0], [0, 1, 1]])\n",
    "b = np.array([[0.5, 0.3, 0.8], [3, 4, 5]])\n",
    "\n",
    "print a - b"
   ]
  },
  {
   "cell_type": "code",
   "execution_count": 5,
   "metadata": {
    "collapsed": false
   },
   "outputs": [],
   "source": [
    "class Neural_Network:\n",
    "    def __init__(self, layers):\n",
    "        self.layers = layers\n",
    "        \n",
    "    def fit(self, X, OUT, batch_size, iteration, learning_ratio, loss_function):\n",
    "\n",
    "        for iterat in xrange(iteration):\n",
    "            \n",
    "            batch_sample = r.sample(xrange(X.shape[0]), batch_size)                \n",
    "            #batch_sample = xrange(batch_size)\n",
    "            \n",
    "            self.layers[0].forward_begin(X[batch_sample])\n",
    "            \n",
    "            for i in xrange(1, len(self.layers)):\n",
    "                self.layers[i].forward_pass(self.layers[i - 1].Y)\n",
    "    \n",
    "            WeightedGradientNextLayer_tmp, Error = self.layers[len(self.layers) - 1].backward_begin(loss_function,\\\n",
    "                                                        OUT[batch_sample], learning_ratio, \\\n",
    "                                                        self.layers[len(self.layers) - 2].Y)\n",
    "        \n",
    "            for i in xrange(len(self.layers) - 2, 0, -1):\n",
    "                WeightedGradientNextLayer_tmp = self.layers[i].backward_pass(WeightedGradientNextLayer_tmp, \\\n",
    "                                                                       learning_ratio, self.layers[i - 1].Y)\n",
    "            \n",
    "            right_cnt = 0\n",
    "            if iterat % 300 == 0:\n",
    "                print \"________________________________________________\"\n",
    "                print \"Iteration: \" + str(iterat)\n",
    "                print 'Error: '  + str(Error)\n",
    "                #print \"Y_i: \" + str(np.argmax(self.layers[len(self.layers) - 1].Y[0]))\n",
    "                #print \"OUT: \" + str(np.argmax(OUT[batch_sample[0]]))\n",
    "                for i in xrange(batch_size):\n",
    "                    if np.argmax(self.layers[len(self.layers) - 1].Y[i]) == np.argmax(OUT[batch_sample[i]]):\n",
    "                        right_cnt += 1\n",
    "                \n",
    "                print \"True identified: \" + str(right_cnt) + \"|\" + str(batch_size)\n",
    "            \n",
    "                \n",
    "    \n",
    "    def predict(self, X):\n",
    "        self.layers[0].forward_begin(X)\n",
    "        for i in xrange(1, len(self.layers)):\n",
    "            self.layers[i].forward_pass(self.layers[i - 1].Y)\n",
    "        \n",
    "        if self.layers[len(self.layers) - 1].activate == 'softmax':\n",
    "            self.layers[len(self.layers) - 1].Y = soft_softmax(self.layers[len(self.layers) - 1].Y)\n",
    "        return self.layers[len(self.layers) - 1].Y\n",
    "                \n",
    "                "
   ]
  },
  {
   "cell_type": "code",
   "execution_count": 6,
   "metadata": {
    "collapsed": false
   },
   "outputs": [
    {
     "name": "stdout",
     "output_type": "stream",
     "text": [
      "[57, 81, 98, 9, 15]\n"
     ]
    }
   ],
   "source": [
    "print r.sample(xrange(100), 5)"
   ]
  },
  {
   "cell_type": "code",
   "execution_count": 25,
   "metadata": {
    "collapsed": false
   },
   "outputs": [
    {
     "data": {
      "image/png": "[encoded data removed]",
      "text/plain": [
       "<matplotlib.figure.Figure at 0x7f877158c310>"
      ]
     },
     "metadata": {},
     "output_type": "display_data"
    }
   ],
   "source": [
    "simple_train =np.array([[-1.0, -1.0]] * 20 + [[1, 1.0]] * 20)\n",
    "simple_check = np.array([[1.0, 0.0]] * 20 + [[0.0, 1.0]] * 20)\n",
    "\n",
    "for i in xrange(len(simple_train)):\n",
    "    (simple_train[i])[0] += np.random.sample() / 2 - 0.25\n",
    "    (simple_train[i])[1] += np.random.sample() / 2 - 0.25\n",
    "    \n",
    "plt.figure(figsize = (5, 5))\n",
    "plt.scatter(simple_train[:, 0], simple_train[:, 1],s = 30,\\\n",
    "            c = ['r' if simple_check[i][0] == 1.0 else 'b' for i in xrange(len(simple_check))])\n",
    "plt.show()  "
   ]
  },
  {
   "cell_type": "code",
   "execution_count": 26,
   "metadata": {
    "collapsed": false
   },
   "outputs": [
    {
     "name": "stdout",
     "output_type": "stream",
     "text": [
      "True\n",
      "True\n",
      "________________________________________________\n",
      "Iteration: 0\n",
      "Error: 13.5021324175\n",
      "True identified: 10|20\n",
      "________________________________________________\n",
      "Iteration: 300\n",
      "Error: 0.00741896689703\n",
      "True identified: 20|20\n",
      "[[-2.25235604  1.37164913]\n",
      " [-1.89256492  2.75697104]]\n",
      "[[-0.18265891 -0.67271669]]\n"
     ]
    }
   ],
   "source": [
    "Layer1 = InputLayer(num_nodes = 2, bias = True)\n",
    "Layer2 = OutputLayer(num_nodes = 2, prev_num_nodes = 2,bias = True,activate = 'softmax')\n",
    "\n",
    "simple_model = Neural_Network([Layer1, Layer2])\n",
    "simple_model.fit(simple_train, simple_check, 20, 400, learning_ratio = 0.1, loss_function = \"NLL\")\n",
    "print Layer2.weights_matrix\n",
    "print Layer2.bias"
   ]
  },
  {
   "cell_type": "code",
   "execution_count": 28,
   "metadata": {
    "collapsed": false
   },
   "outputs": [
    {
     "data": {
      "image/png": "[encoded data removed]",
      "text/plain": [
       "<matplotlib.figure.Figure at 0x7f877146e2d0>"
      ]
     },
     "metadata": {},
     "output_type": "display_data"
    }
   ],
   "source": [
    "#на этих тестировать \n",
    "simple_test =np.array([[-1.0, -1]] * 20 + [[1, 1.0]] * 20)\n",
    "\n",
    "for i in xrange(len(simple_test)):\n",
    "    (simple_test[i])[0] += np.random.sample() / 2 - 0.25\n",
    "    (simple_test[i])[1] += np.random.sample() / 2 - 0.25\n",
    "    \n",
    "simple_predict = simple_model.predict(simple_test)\n",
    "#print simple_predict\n",
    "    \n",
    "plt.figure(figsize = (5, 5))\n",
    "plt.scatter(simple_test[:, 0], simple_test[:, 1],s = 30,\\\n",
    "            c = ['r' if simple_predict[i][0] > 0.5 else 'b' for i in xrange(len(simple_check))])\n",
    "plt.show() "
   ]
  },
  {
   "cell_type": "code",
   "execution_count": 33,
   "metadata": {
    "collapsed": false,
    "scrolled": true
   },
   "outputs": [
    {
     "data": {
      "image/png": "[encoded data removed]",
      "text/plain": [
       "<matplotlib.figure.Figure at 0x7f8771bd7ad0>"
      ]
     },
     "metadata": {},
     "output_type": "display_data"
    },
    {
     "name": "stdout",
     "output_type": "stream",
     "text": [
      "True\n",
      "True\n",
      "________________________________________________\n",
      "Iteration: 0\n",
      "Error: 0.282457149134\n",
      "True identified: 20|20\n",
      "________________________________________________\n",
      "Iteration: 300\n",
      "Error: 0.0293850099446\n",
      "True identified: 20|20\n",
      "[[ 2.8751021 ]\n",
      " [ 1.81913215]]\n",
      "[[-1.36627566]]\n",
      "[[ 0.23853004]\n",
      " [ 0.3625532 ]\n",
      " [ 0.2621269 ]\n",
      " [ 0.37049347]\n",
      " [ 0.23330373]\n",
      " [ 0.25991106]\n",
      " [ 0.10630429]\n",
      " [ 0.3397883 ]\n",
      " [ 0.12458696]\n",
      " [ 0.09234842]\n",
      " [ 0.30575672]\n",
      " [ 0.25071828]\n",
      " [ 0.18152012]\n",
      " [ 0.13218504]\n",
      " [ 0.1487261 ]\n",
      " [ 0.1223818 ]\n",
      " [ 0.22291501]\n",
      " [ 0.39938688]\n",
      " [ 0.15633098]\n",
      " [ 0.14264692]\n",
      " [ 0.97567224]\n",
      " [ 0.97813757]\n",
      " [ 0.94840952]\n",
      " [ 0.98047358]\n",
      " [ 0.98505322]\n",
      " [ 0.95710016]\n",
      " [ 0.96823625]\n",
      " [ 0.96408756]\n",
      " [ 0.9675088 ]\n",
      " [ 0.98419475]\n",
      " [ 0.94670539]\n",
      " [ 0.92064936]\n",
      " [ 0.96224693]\n",
      " [ 0.9797638 ]\n",
      " [ 0.96288949]\n",
      " [ 0.92302454]\n",
      " [ 0.97588148]\n",
      " [ 0.97339708]\n",
      " [ 0.945659  ]\n",
      " [ 0.98338319]]\n"
     ]
    },
    {
     "data": {
      "image/png": "[encoded data removed]",
      "text/plain": [
       "<matplotlib.figure.Figure at 0x7f877178a790>"
      ]
     },
     "metadata": {},
     "output_type": "display_data"
    }
   ],
   "source": [
    "simple_train =np.array([[0, 0]] * 20 + [[1, 1.0]] * 20)\n",
    "simple_check = np.array([[0.0]] * 20 + [[1.0]] * 20)\n",
    "\n",
    "for i in xrange(len(simple_train)):\n",
    "    (simple_train[i])[0] += np.random.sample() / 2 - 0.25\n",
    "    (simple_train[i])[1] += np.random.sample() / 2 - 0.25\n",
    "    \n",
    "#на этих данных буду обучать\n",
    "plt.figure(figsize = (5, 5))\n",
    "plt.scatter(simple_train[:, 0], simple_train[:, 1],s = 30, c = ['r' if simple_check[i][0] == 0 else 'b' for i in xrange(len(simple_check))])\n",
    "plt.show() \n",
    "\n",
    "Layer1 = InputLayer(num_nodes = 2)\n",
    "Layer2 = OutputLayer(num_nodes = 1, prev_num_nodes = 2,bias = True,activate = 'sigmoid')\n",
    "\n",
    "simple_model = Neural_Network([Layer1, Layer2])\n",
    "simple_model.fit(simple_train, simple_check, 20, 400, learning_ratio = 0.1, loss_function = \"MSE\")\n",
    "print Layer2.weights_matrix\n",
    "print Layer2.bias\n",
    "\n",
    "#на этих тестировать \n",
    "simple_test =np.array([[0.0, 0]] * 20 + [[1, 1.0]] * 20)\n",
    "\n",
    "for i in xrange(len(simple_test)):\n",
    "    (simple_test[i])[0] += np.random.sample() / 2 - 0.25\n",
    "    (simple_test[i])[1] += np.random.sample() / 2 - 0.25\n",
    "    \n",
    "simple_predict = simple_model.predict(simple_test)\n",
    "print simple_predict\n",
    "    \n",
    "plt.figure(figsize = (5, 5))\n",
    "plt.scatter(simple_test[:, 0], simple_test[:, 1],s = 30,\\\n",
    "            c = ['r' if simple_predict[i][0] > 0.5 else 'b' for i in xrange(len(simple_check))])\n",
    "plt.show() "
   ]
  },
  {
   "cell_type": "code",
   "execution_count": 157,
   "metadata": {
    "collapsed": false
   },
   "outputs": [
    {
     "data": {
      "image/png": "[encoded data removed]",
      "text/plain": [
       "<matplotlib.figure.Figure at 0x7f10d8aa2910>"
      ]
     },
     "metadata": {},
     "output_type": "display_data"
    }
   ],
   "source": [
    "XOR_train = np.array([[0.0, 0]] * 15 + [[0.0, 1]] * 15 + [[1, 0.0]] * 15 + [[1, 1.0]] * 15)\n",
    "XOR_check = np.array([[1.0, 0.0]] *15 + [[0.0, 1.0]] *15 + [[0.0, 1.0]] *15 + [[1.0, 0.0]] *15)\n",
    "\n",
    "#XOR_train = np.array([[0.0, 0]] + [[0.0, 1]] + [[1, 0.0]] + [[1, 1.0]])\n",
    "#XOR_check = np.array([[1.0, 0.0]] + [[0.0, 1.0]] + [[0.0, 1.0]]  + [[1.0, 0.0]])\n",
    "\n",
    "for i in xrange(len(XOR_train)):\n",
    "    (XOR_train[i])[0] += np.random.sample() / 2 - 0.25\n",
    "    (XOR_train[i])[1] += np.random.sample() / 2 - 0.25\n",
    "    \n",
    "#на этих данных буду обучать\n",
    "plt.figure(figsize = (5, 5))\n",
    "plt.scatter(XOR_train[:, 0], XOR_train[:, 1], s = 30, c = ['r' if XOR_check[i][1] == 0 else 'b' for i in xrange(len(XOR_check))])\n",
    "plt.show()                 "
   ]
  },
  {
   "cell_type": "code",
   "execution_count": 158,
   "metadata": {
    "collapsed": false,
    "scrolled": true
   },
   "outputs": [
    {
     "name": "stdout",
     "output_type": "stream",
     "text": [
      "True\n",
      "True\n",
      "True\n",
      "[<__main__.InputLayer instance at 0x7f10d8b420e0>, <__main__.Layer instance at 0x7f10d8b42098>, <__main__.OutputLayer instance at 0x7f10d8b428c0>]\n",
      "________________________________________________\n",
      "Iteration: 0\n",
      "Error: 21.4042728759\n",
      "True identified: 16|30\n",
      "________________________________________________\n",
      "Iteration: 300\n",
      "Error: 20.3116758306\n",
      "True identified: 21|30\n",
      "________________________________________________\n",
      "Iteration: 600\n",
      "Error: 17.9549243256\n",
      "True identified: 20|30\n",
      "________________________________________________\n",
      "Iteration: 900\n",
      "Error: 9.27661557774\n",
      "True identified: 30|30\n",
      "________________________________________________\n",
      "Iteration: 1200\n",
      "Error: 4.19118113087\n",
      "True identified: 29|30\n",
      "________________________________________________\n",
      "Iteration: 1500\n",
      "Error: 2.55796824471\n",
      "True identified: 30|30\n",
      "________________________________________________\n",
      "Iteration: 1800\n",
      "Error: 1.67247860775\n",
      "True identified: 30|30\n",
      "________________________________________________\n",
      "Iteration: 2100\n",
      "Error: 1.26324408117\n",
      "True identified: 30|30\n",
      "________________________________________________\n",
      "Iteration: 2400\n",
      "Error: 0.662164823828\n",
      "True identified: 30|30\n",
      "________________________________________________\n",
      "Iteration: 2700\n",
      "Error: 1.0840693037\n",
      "True identified: 30|30\n"
     ]
    }
   ],
   "source": [
    "inp = InputLayer(2)\n",
    "hidden = Layer(3, 2,bias = True, activate = \"sigmoid\")\n",
    "outp = OutputLayer(2, 3, bias = True, activate = \"softmax\")\n",
    "\n",
    "print [inp, hidden, outp]\n",
    "XOR_model = Neural_Network(layers = [inp, hidden, outp])\n",
    "XOR_model.fit(XOR_train, XOR_check, 30, 3000, learning_ratio = 0.01, loss_function = \"NLL\")"
   ]
  },
  {
   "cell_type": "code",
   "execution_count": 159,
   "metadata": {
    "collapsed": false
   },
   "outputs": [
    {
     "data": {
      "image/png": "[encoded data removed]",
      "text/plain": [
       "<matplotlib.figure.Figure at 0x7f10d8b31950>"
      ]
     },
     "metadata": {},
     "output_type": "display_data"
    }
   ],
   "source": [
    "#на этих тестировать \n",
    "XOR_test =np.array([[0.0, 0]] * 10 + [[0.0, 1]] * 10 + [[1, 0.0]] * 10 + [[1, 1.0]] * 10)\n",
    "\n",
    "for i in xrange(len(XOR_test)):\n",
    "    (XOR_test[i])[0] += np.random.sample() / 2 - 0.25\n",
    "    (XOR_test[i])[1] += np.random.sample() / 2 - 0.25\n",
    "    \n",
    "XOR_predict = XOR_model.predict(XOR_test)\n",
    "\n",
    "plt.figure(figsize = (5, 5))\n",
    "plt.scatter(XOR_test[:, 0], XOR_test[:, 1],s = 30, c = ['r' if XOR_predict[i][1] <= 0.5 else 'b' for i in xrange(len(XOR_predict))])\n",
    "plt.show()  "
   ]
  },
  {
   "cell_type": "code",
   "execution_count": 160,
   "metadata": {
    "collapsed": true
   },
   "outputs": [],
   "source": [
    "def read(dataset = \"training\", path = \"/home/dana_zl/Technosphera/Neural_Network/\"):\n",
    "    \"\"\"\n",
    "    Python function for importing the MNIST data set.  It returns an iterator\n",
    "    of 2-tuples with the first element being the label and the second element\n",
    "    being a numpy.uint8 2D array of pixel data for the given image.\n",
    "    \"\"\"\n",
    "\n",
    "    if dataset is \"training\":\n",
    "        fname_img = os.path.join(path, 'train-images.idx3-ubyte')\n",
    "        fname_lbl = os.path.join(path, 'train-labels.idx1-ubyte')\n",
    "    elif dataset is \"testing\":\n",
    "        fname_img = os.path.join(path, 't10k-images.idx3-ubyte')\n",
    "        fname_lbl = os.path.join(path, 't10k-labels.idx1-ubyte')\n",
    "    else:\n",
    "        raise ValueError, \"dataset must be 'testing' or 'training'\"\n",
    "        \n",
    "    # Load everything in some numpy arrays\n",
    "    with open(fname_lbl, 'rb') as flbl:\n",
    "        magic, num = struct.unpack(\">II\", flbl.read(8))\n",
    "        lbl = np.fromfile(flbl, dtype=np.int8)\n",
    "\n",
    "    with open(fname_img, 'rb') as fimg:\n",
    "        magic, num, rows, cols = struct.unpack(\">IIII\", fimg.read(16))\n",
    "        img = np.fromfile(fimg, dtype=np.uint8).reshape(len(lbl), rows, cols)\n",
    "        \n",
    "    print img.shape\n",
    "    print lbl, len(lbl)\n",
    "    \n",
    "    IMG = np.array([img[i].reshape(784) for i in xrange(len(lbl))])\n",
    "    LBL = np.zeros((len(lbl), 10))\n",
    "    for i in xrange(len(lbl)):\n",
    "        LBL[i][lbl[i]] = 1\n",
    "    \n",
    "    return IMG, LBL\n",
    "\n",
    "def show(image):\n",
    "    \"\"\"\n",
    "    Render a given numpy.uint8 2D array of pixel data.\n",
    "    \"\"\"\n",
    "    from matplotlib import pyplot\n",
    "    import matplotlib as mpl\n",
    "    fig = pyplot.figure()\n",
    "    ax = fig.add_subplot(1,1,1)\n",
    "    imgplot = ax.imshow(image, cmap=mpl.cm.Greys)\n",
    "    imgplot.set_interpolation('nearest')\n",
    "    ax.xaxis.set_ticks_position('top')\n",
    "    ax.yaxis.set_ticks_position('left')\n",
    "    pyplot.show()"
   ]
  },
  {
   "cell_type": "code",
   "execution_count": 161,
   "metadata": {
    "collapsed": false
   },
   "outputs": [
    {
     "name": "stdout",
     "output_type": "stream",
     "text": [
      "(60000, 28, 28)\n",
      "[5 0 4 ..., 5 6 8] 60000\n",
      "(60000, 10)\n"
     ]
    }
   ],
   "source": [
    "TRAIN_IMG, TRAIN_LBL = read(dataset = \"training\")\n",
    "TRAIN_IMG_NORM = sklearn.preprocessing.normalize(TRAIN_IMG, norm = 'max')\n",
    "print TRAIN_LBL.shape"
   ]
  },
  {
   "cell_type": "code",
   "execution_count": 162,
   "metadata": {
    "collapsed": false,
    "scrolled": true
   },
   "outputs": [
    {
     "name": "stdout",
     "output_type": "stream",
     "text": [
      "[[  0   0   0   0   0   0   0   0   0   0   0   0   0   0   0   0   0   0\n",
      "    0   0   0   0   0   0   0   0   0   0]\n",
      " [  0   0   0   0   0   0   0   0   0   0   0   0   0   0   0   0   0   0\n",
      "    0   0   0   0   0   0   0   0   0   0]\n",
      " [  0   0   0   0   0   0   0   0   0   0   0   0   0   0   0   0   0   0\n",
      "    0   0   0   0   0   0   0   0   0   0]\n",
      " [  0   0   0   0   0   0   0   0   0   0   0   0   0   0   0   0   0   0\n",
      "    0   0   0   0   0   0   0   0   0   0]\n",
      " [  0   0   0   0   0  15  24 118 138 139 138 138  97  24  22   0   0   0\n",
      "    0   0   0   0   0   0   0   0   0   0]\n",
      " [  0   0   0   0  57 219 252 252 252 253 252 252 252 252 245 140  13   0\n",
      "    0   0   0   0   0   0   0   0   0   0]\n",
      " [  0   0   0   0 253 252 252 252 252 253 252 252 252 252 253 252 171  13\n",
      "    0   0   0   0   0   0   0   0   0   0]\n",
      " [  0   0   0   0  56 160 160 160  56  46  45  45  45  98 211 252 252 139\n",
      "    0   0   0   0   0   0   0   0   0   0]\n",
      " [  0   0   0   0   0   0   0   0   0   0   0   0   0   0  34 252 252 244\n",
      "   73   0   0   0   0   0   0   0   0   0]\n",
      " [  0   0   0   0   0   0   0   0   0   0   0   0   0   0  11 203 253 253\n",
      "  148   0   0   0   0   0   0   0   0   0]\n",
      " [  0   0   0   0   0   0   0   0   0   0   0   0   0   0   0 161 252 252\n",
      "  252   0   0   0   0   0   0   0   0   0]\n",
      " [  0   0   0   0   0   0   0   0   0   0   0   0   0   0  17 228 252 252\n",
      "  168   0   0   0   0   0   0   0   0   0]\n",
      " [  0   0   0   0   0   0   0   0   0   0   0   0   0   0  66 252 252 252\n",
      "   96   0   0   0   0   0   0   0   0   0]\n",
      " [  0   0   0   0   0   0   0   0   0   0   0   0   0   0 191 252 252 168\n",
      "    2   0   0   0   0   0   0   0   0   0]\n",
      " [  0   0   0   0   0   0   0   0   0   0   0   0   9 181 255 253 253 150\n",
      "    0   0   0   0   0   0   0   0   0   0]\n",
      " [  0   0   0   0   0   0   0   0   0   0   0  13 174 252 253 252 187  17\n",
      "    0   0   0   0   0   0   0   0   0   0]\n",
      " [  0   0   0   0   0   0   0   0   0   0  13 172 252 252 253 240  50   0\n",
      "    0   0   0   0   0   0   0   0   0   0]\n",
      " [  0   0   0   0   0   0   0   0   0   9 174 252 252 252 234  37   0   0\n",
      "    0   0   0   0   0   0   0   0   0   0]\n",
      " [  0   0   0   0   0   0   0   0   0 181 252 252 252 200  73   0   0   0\n",
      "    0   0   0   0   0   0   0   0   0   0]\n",
      " [  0   0   0   0   0   0   0   0 231 255 253 253 253 148  24  24  24  24\n",
      "   24  24  24  24   5   0   0   0   0   0]\n",
      " [  0   0   0   0   0   0   0   0 230 253 252 252 252 252 253 252 252 252\n",
      "  252 253 252 252 177 109   0   0   0   0]\n",
      " [  0   0   0   0   0   0   0   0 167 253 252 252 252 252 253 252 252 252\n",
      "  252 253 252 252 252 252   0   0   0   0]\n",
      " [  0   0   0   0   0   0   0   0   0  46 119 160 160 160 161 177 210 252\n",
      "  168 161 160 160 160 108   0   0   0   0]\n",
      " [  0   0   0   0   0   0   0   0   0   0   0   0   0   0   0   5  12  22\n",
      "    2   0   0   0   0   0   0   0   0   0]\n",
      " [  0   0   0   0   0   0   0   0   0   0   0   0   0   0   0   0   0   0\n",
      "    0   0   0   0   0   0   0   0   0   0]\n",
      " [  0   0   0   0   0   0   0   0   0   0   0   0   0   0   0   0   0   0\n",
      "    0   0   0   0   0   0   0   0   0   0]\n",
      " [  0   0   0   0   0   0   0   0   0   0   0   0   0   0   0   0   0   0\n",
      "    0   0   0   0   0   0   0   0   0   0]\n",
      " [  0   0   0   0   0   0   0   0   0   0   0   0   0   0   0   0   0   0\n",
      "    0   0   0   0   0   0   0   0   0   0]]\n",
      "[ 0.  0.  1.  0.  0.  0.  0.  0.  0.  0.]\n"
     ]
    }
   ],
   "source": [
    "print str(TRAIN_IMG[20007].reshape(28, 28))\n",
    "print TRAIN_LBL[20007]"
   ]
  },
  {
   "cell_type": "code",
   "execution_count": 163,
   "metadata": {
    "collapsed": false,
    "scrolled": true
   },
   "outputs": [
    {
     "name": "stdout",
     "output_type": "stream",
     "text": [
      "True\n",
      "True\n",
      "True\n",
      "________________________________________________\n",
      "Iteration: 0\n",
      "Error: 556.428053854\n",
      "True identified: 5|60\n",
      "________________________________________________\n",
      "Iteration: 300\n",
      "Error: 31.2523226987\n",
      "True identified: 52|60\n",
      "________________________________________________\n",
      "Iteration: 600\n",
      "Error: 15.0941336163\n",
      "True identified: 54|60\n",
      "________________________________________________\n",
      "Iteration: 900\n",
      "Error: 21.3465251782\n",
      "True identified: 53|60\n",
      "________________________________________________\n",
      "Iteration: 1200\n",
      "Error: 20.2972826401\n",
      "True identified: 53|60\n",
      "________________________________________________\n",
      "Iteration: 1500\n",
      "Error: 10.6912358814\n",
      "True identified: 56|60\n",
      "________________________________________________\n",
      "Iteration: 1800\n",
      "Error: 7.77013751613\n",
      "True identified: 56|60\n",
      "________________________________________________\n",
      "Iteration: 2100\n",
      "Error: 5.64222829964\n",
      "True identified: 58|60\n",
      "________________________________________________\n",
      "Iteration: 2400\n",
      "Error: 10.1577269537\n",
      "True identified: 56|60\n",
      "________________________________________________\n",
      "Iteration: 2700\n",
      "Error: 3.39394790607\n",
      "True identified: 59|60\n",
      "________________________________________________\n",
      "Iteration: 3000\n",
      "Error: 3.99217451837\n",
      "True identified: 58|60\n",
      "________________________________________________\n",
      "Iteration: 3300\n",
      "Error: 9.12711458785\n",
      "True identified: 58|60\n",
      "________________________________________________\n",
      "Iteration: 3600\n",
      "Error: 5.36824393009\n",
      "True identified: 58|60\n",
      "________________________________________________\n",
      "Iteration: 3900\n",
      "Error: 9.05130568308\n",
      "True identified: 57|60\n"
     ]
    }
   ],
   "source": [
    "inp = InputLayer(784)\n",
    "hidden = Layer(300, prev_num_nodes = 784, bias = True, activate = \"sigmoid\")\n",
    "out = OutputLayer(10, prev_num_nodes = 300, bias = True, activate = 'softmax')\n",
    "\n",
    "MNIST_model = Neural_Network([inp, hidden, out])\n",
    "MNIST_model.fit(TRAIN_IMG_NORM, TRAIN_LBL, 60, 4000, learning_ratio = 0.01, loss_function = \"NLL\")"
   ]
  },
  {
   "cell_type": "code",
   "execution_count": 164,
   "metadata": {
    "collapsed": false
   },
   "outputs": [
    {
     "name": "stdout",
     "output_type": "stream",
     "text": [
      "(10000, 28, 28)\n",
      "[7 2 1 ..., 4 5 6] 10000\n"
     ]
    }
   ],
   "source": [
    "TEST_IMG, TEST_LBL = read(dataset = \"testing\")\n",
    "TEST_IMG_NORM = sklearn.preprocessing.normalize(TEST_IMG, norm = 'max')"
   ]
  },
  {
   "cell_type": "code",
   "execution_count": 165,
   "metadata": {
    "collapsed": false
   },
   "outputs": [
    {
     "name": "stdout",
     "output_type": "stream",
     "text": [
      "True identified: 9504|10000\n"
     ]
    }
   ],
   "source": [
    "right_cnt = 0\n",
    "predict = MNIST_model.predict(TEST_IMG_NORM)\n",
    "for i in xrange(predict.shape[0]):\n",
    "    if np.argmax(predict[i]) == np.argmax(TEST_LBL[i]):\n",
    "        right_cnt += 1\n",
    "                \n",
    "print \"True identified: \" + str(right_cnt) + \"|\" + str(predict.shape[0])"
   ]
  },
  {
   "cell_type": "code",
   "execution_count": 166,
   "metadata": {
    "collapsed": false
   },
   "outputs": [
    {
     "name": "stdout",
     "output_type": "stream",
     "text": [
      "[ 0.08533729  0.08533729  0.08533735  0.08534093  0.08533729  0.08533729\n",
      "  0.08533729  0.23196072  0.08533729  0.08533729]\n"
     ]
    }
   ],
   "source": [
    "print predict[0]"
   ]
  }
 ],
 "metadata": {
  "anaconda-cloud": {},
  "kernelspec": {
   "display_name": "Python [default]",
   "language": "python",
   "name": "python2"
  },
  "language_info": {
   "codemirror_mode": {
    "name": "ipython",
    "version": 2
   },
   "file_extension": ".py",
   "mimetype": "text/x-python",
   "name": "python",
   "nbconvert_exporter": "python",
   "pygments_lexer": "ipython2",
   "version": "2.7.12"
  },
  "nbpresent": {
   "slides": {},
   "themes": {
    "default": "90190938-2586-484e-a0cd-c563d27ceed7",
    "theme": {}
   }
  }
 },
 "nbformat": 4,
 "nbformat_minor": 1
}
